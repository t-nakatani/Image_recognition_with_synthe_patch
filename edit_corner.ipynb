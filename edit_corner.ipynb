{
 "cells": [
  {
   "cell_type": "code",
   "execution_count": 31,
   "metadata": {
    "scrolled": false
   },
   "outputs": [
    {
     "name": "stdout",
     "output_type": "stream",
     "text": [
      "248\n",
      "/Users/nakatani/labo/grabcut/samples/python\r\n"
     ]
    },
    {
     "data": {
      "text/plain": [
       "<matplotlib.figure.Figure at 0x7fca88e8c860>"
      ]
     },
     "metadata": {},
     "output_type": "display_data"
    }
   ],
   "source": [
    "import cv2\n",
    "import numpy as np\n",
    "from matplotlib import pyplot as plt\n",
    "import os\n",
    "import re\n",
    "import math\n",
    "plt.gray()\n",
    "fnames = !ls /Users/nakatani/labo/grabcut/img/foreground2_fixed\n",
    "print(len(fnames))\n",
    "dpath = '../../img/corner2/'\n",
    "\n",
    "!pwd"
   ]
  },
  {
   "cell_type": "code",
   "execution_count": 32,
   "metadata": {},
   "outputs": [],
   "source": [
    "from __future__ import print_function\n",
    "\n",
    "import numpy as np\n",
    "import cv2\n",
    "\n",
    "import sys"
   ]
  },
  {
   "cell_type": "code",
   "execution_count": 33,
   "metadata": {},
   "outputs": [],
   "source": [
    "def show(img):\n",
    "    plt.figure(figsize = (20,20))\n",
    "    plt.imshow(img), plt.show()\n",
    "    "
   ]
  },
  {
   "cell_type": "code",
   "execution_count": 34,
   "metadata": {},
   "outputs": [],
   "source": [
    "i = 0"
   ]
  },
  {
   "cell_type": "code",
   "execution_count": 37,
   "metadata": {
    "scrolled": true
   },
   "outputs": [
    {
     "name": "stdout",
     "output_type": "stream",
     "text": [
      "77.png 0\n"
     ]
    }
   ],
   "source": [
    "# i = 136\n",
    "fname = '77.png'\n",
    "\n",
    "print(fname, i)\n",
    "convex = cv2.imread(dpath + 'convex/' + fname)\n",
    "concave = cv2.imread(dpath + 'concave/' + fname)\n",
    "\n",
    "# i += 1"
   ]
  },
  {
   "cell_type": "code",
   "execution_count": 38,
   "metadata": {},
   "outputs": [
    {
     "name": "stdout",
     "output_type": "stream",
     "text": [
      " Result saved as image \n",
      "\n",
      " Result saved as image \n",
      "\n"
     ]
    },
    {
     "ename": "KeyboardInterrupt",
     "evalue": "",
     "output_type": "error",
     "traceback": [
      "\u001b[0;31m---------------------------------------------------------------------------\u001b[0m",
      "\u001b[0;31mKeyboardInterrupt\u001b[0m                         Traceback (most recent call last)",
      "\u001b[0;32m<ipython-input-38-3f83fdf315a1>\u001b[0m in \u001b[0;36m<module>\u001b[0;34m()\u001b[0m\n\u001b[1;32m     23\u001b[0m \u001b[0;32mwhile\u001b[0m\u001b[0;34m(\u001b[0m\u001b[0;36m1\u001b[0m\u001b[0;34m)\u001b[0m\u001b[0;34m:\u001b[0m\u001b[0;34m\u001b[0m\u001b[0m\n\u001b[1;32m     24\u001b[0m     \u001b[0mcv2\u001b[0m\u001b[0;34m.\u001b[0m\u001b[0mimshow\u001b[0m\u001b[0;34m(\u001b[0m\u001b[0;34m'image'\u001b[0m\u001b[0;34m,\u001b[0m\u001b[0mimg\u001b[0m\u001b[0;34m)\u001b[0m\u001b[0;34m\u001b[0m\u001b[0m\n\u001b[0;32m---> 25\u001b[0;31m     \u001b[0mk\u001b[0m \u001b[0;34m=\u001b[0m \u001b[0mcv2\u001b[0m\u001b[0;34m.\u001b[0m\u001b[0mwaitKey\u001b[0m\u001b[0;34m(\u001b[0m\u001b[0;36m20\u001b[0m\u001b[0;34m)\u001b[0m\u001b[0;34m\u001b[0m\u001b[0m\n\u001b[0m\u001b[1;32m     26\u001b[0m     \u001b[0;32mif\u001b[0m \u001b[0mk\u001b[0m \u001b[0;34m&\u001b[0m \u001b[0;36m0xFF\u001b[0m \u001b[0;34m==\u001b[0m \u001b[0;36m27\u001b[0m\u001b[0;34m:\u001b[0m\u001b[0;34m\u001b[0m\u001b[0m\n\u001b[1;32m     27\u001b[0m         \u001b[0;32mbreak\u001b[0m\u001b[0;34m\u001b[0m\u001b[0m\n",
      "\u001b[0;31mKeyboardInterrupt\u001b[0m: "
     ]
    }
   ],
   "source": [
    "import cv2\n",
    "import numpy as np\n",
    "\n",
    "WHITE = [255,255,255]\n",
    "BLACK = [0,0,0]\n",
    "\n",
    "TOGGLE = {'color' : WHITE, 'val' : 1}\n",
    "value = TOGGLE        # drawing initialized to FG\n",
    "thickness = 10           # brush thickness\n",
    "\n",
    "# mouse callback function\n",
    "def draw_circle(event,x,y,flags,param):\n",
    "    if event == cv2.EVENT_LBUTTONDOWN:\n",
    "        cv2.circle(img, (x,y), thickness, value['color'], -1)\n",
    "        cv2.circle(mask, (x,y), thickness, value['val'], -1)\n",
    "\n",
    "# Create a black image, a window and bind the function to window\n",
    "img = cv2.imread(dpath + 'corner/' + fname)\n",
    "cv2.namedWindow('image')\n",
    "cv2.setMouseCallback('image',draw_circle)\n",
    "mask = np.zeros(img.shape[:2], dtype = np.uint8)\n",
    "\n",
    "while(1):\n",
    "    cv2.imshow('image',img)\n",
    "    k = cv2.waitKey(20)\n",
    "    if k & 0xFF == 27:\n",
    "        break\n",
    "    if k == ord('9'):         # esc to exit\n",
    "        break\n",
    "    elif k == ord('0'): # BG drawing\n",
    "        print(\"0: mark background regions with left mouse button \\n\")\n",
    "        value = TOGGLE\n",
    "    elif k == ord('s'): # save image\n",
    "        mask_CONVEXtoCONCAVE = np.where((mask==1) , 255, 0).astype('uint8')\n",
    "        mask_CONCAVEtoCONVEX = np.where((mask==1) , 0, 255).astype('uint8')\n",
    "        concave = cv2.bitwise_and(concave, concave, mask = mask_CONCAVEtoCONVEX)\n",
    "        convex = cv2.bitwise_and(convex, convex, mask = mask_CONVEXtoCONCAVE)\n",
    "        \n",
    "        cv2.imwrite('../../img/corner2/edited_convex/' + fname, convex)\n",
    "        cv2.imwrite('../../img/corner2/edited_concave/' + fname, concave)\n",
    "        print(\" Result saved as image \\n\")\n",
    "    elif k == ord('r'): # reset everything\n",
    "        print(\"resetting \\n\")\n",
    "        value = TOGGLE\n",
    "        img = img_copy.copy()\n",
    "        mask = np.zeros(img.shape[:2], dtype = np.uint8) # mask initialized to PR_BG\n",
    "    elif k == ord('c'): \n",
    "        show(convex)\n",
    "        show(concave)\n",
    "cv2.destroyAllWindows()"
   ]
  },
  {
   "cell_type": "code",
   "execution_count": 16,
   "metadata": {},
   "outputs": [],
   "source": [
    "img = cv2.imread(dpath + 'corner/' + fname)"
   ]
  },
  {
   "cell_type": "code",
   "execution_count": 5,
   "metadata": {
    "scrolled": true
   },
   "outputs": [
    {
     "ename": "NameError",
     "evalue": "name 'img' is not defined",
     "output_type": "error",
     "traceback": [
      "\u001b[0;31m---------------------------------------------------------------------------\u001b[0m",
      "\u001b[0;31mNameError\u001b[0m                                 Traceback (most recent call last)",
      "\u001b[0;32m<ipython-input-5-c65d782eb7d6>\u001b[0m in \u001b[0;36m<module>\u001b[0;34m()\u001b[0m\n\u001b[0;32m----> 1\u001b[0;31m \u001b[0mshow\u001b[0m\u001b[0;34m(\u001b[0m\u001b[0mimg\u001b[0m\u001b[0;34m)\u001b[0m\u001b[0;34m\u001b[0m\u001b[0m\n\u001b[0m",
      "\u001b[0;31mNameError\u001b[0m: name 'img' is not defined"
     ]
    }
   ],
   "source": [
    "show(img)"
   ]
  },
  {
   "cell_type": "code",
   "execution_count": 11,
   "metadata": {},
   "outputs": [
    {
     "data": {
      "text/plain": [
       "'../../img/corner2/corner/0.png'"
      ]
     },
     "execution_count": 11,
     "metadata": {},
     "output_type": "execute_result"
    }
   ],
   "source": [
    "dpath + 'corner/' + fname"
   ]
  },
  {
   "cell_type": "code",
   "execution_count": 39,
   "metadata": {
    "scrolled": false
   },
   "outputs": [
    {
     "name": "stdout",
     "output_type": "stream",
     "text": [
      "0.png\n",
      "1.png\n",
      "100.png\n",
      "101.png\n",
      "102.png\n",
      "103.png\n",
      "104.png\n",
      "105.png\n",
      "106.png\n",
      "107.png\n",
      "108.png\n",
      "109.png\n",
      "11.png\n",
      "110.png\n",
      "111.png\n",
      "112.png\n",
      "113.png\n",
      "114.png\n",
      "115.png\n",
      "116.png\n",
      "117.png\n",
      "118.png\n",
      "119.png\n",
      "12.png\n",
      "120.png\n",
      "121.png\n",
      "122.png\n",
      "123.png\n",
      "124.png\n",
      "125.png\n",
      "126.png\n",
      "127.png\n",
      "128.png\n",
      "129.png\n",
      "130.png\n",
      "131.png\n",
      "132.png\n",
      "133.png\n",
      "134.png\n",
      "135.png\n",
      "136.png\n",
      "137.png\n",
      "138.png\n",
      "139.png\n",
      "140.png\n",
      "141.png\n",
      "142.png\n",
      "143.png\n",
      "144.png\n",
      "145.png\n",
      "146.png\n",
      "147.png\n",
      "148-1.png\n",
      "149.png\n",
      "150.png\n",
      "151.png\n",
      "152.png\n",
      "153.png\n",
      "154.png\n",
      "155.png\n",
      "156.png\n",
      "157.png\n",
      "158.png\n",
      "159.png\n",
      "16.png\n",
      "160.png\n",
      "161.png\n",
      "163-2.png\n",
      "163.png\n",
      "164.png\n",
      "165.png\n",
      "167.png\n",
      "168.png\n",
      "169.png\n",
      "17.png\n",
      "170.png\n",
      "172.png\n",
      "178.png\n",
      "18.png\n",
      "180.png\n",
      "181.png\n",
      "182.png\n",
      "183.png\n",
      "184.png\n",
      "185.png\n",
      "186.png\n",
      "187.png\n",
      "188.png\n",
      "189.png\n",
      "19.png\n",
      "190.png\n",
      "191.png\n",
      "192.png\n",
      "193.png\n",
      "194.png\n",
      "195-2.png\n",
      "195.png\n",
      "196.png\n",
      "197.png\n",
      "198.png\n",
      "199.png\n",
      "2.png\n",
      "20.png\n",
      "200.png\n",
      "202.png\n",
      "204.png\n",
      "205.png\n",
      "206.png\n",
      "207.png\n",
      "208.png\n",
      "209.png\n",
      "21.png\n",
      "210.png\n",
      "212.png\n",
      "213.png\n",
      "214.png\n",
      "215.png\n",
      "216.png\n",
      "217.png\n",
      "218.png\n",
      "219.png\n",
      "22.png\n",
      "220.png\n",
      "222.png\n",
      "223.png\n",
      "224.png\n",
      "225.png\n",
      "226.png\n",
      "227.png\n",
      "228.png\n",
      "229.png\n",
      "23.png\n",
      "230.png\n",
      "231.png\n",
      "232.png\n",
      "233.png\n",
      "234.png\n",
      "235.png\n",
      "236.png\n",
      "237.png\n",
      "238.png\n",
      "239.png\n",
      "24.png\n",
      "240.png\n",
      "241.png\n",
      "242.png\n",
      "243-1.png\n",
      "244-1.png\n",
      "245.png\n",
      "246-1.png\n",
      "247.png\n",
      "248.png\n",
      "249.png\n",
      "25.png\n",
      "250.png\n",
      "251.png\n",
      "252.png\n",
      "253.png\n",
      "254.png\n",
      "255.png\n",
      "256.png\n",
      "257.png\n",
      "258.png\n",
      "259.png\n",
      "26.png\n",
      "260.png\n",
      "261.png\n",
      "262.png\n",
      "263.png\n",
      "264.png\n",
      "265.png\n",
      "27.png\n",
      "28.png\n",
      "29.png\n",
      "3.png\n",
      "31.png\n",
      "32.png\n",
      "33.png\n",
      "34-1.png\n",
      "34-2.png\n",
      "35-2.png\n",
      "35.png\n",
      "36.png\n",
      "37.png\n",
      "38.png\n",
      "39-2.png\n",
      "4.png\n",
      "40.png\n",
      "41.png\n",
      "42.png\n",
      "43.png\n",
      "44-1.png\n",
      "44-2.png\n",
      "45.png\n",
      "46-1.png\n",
      "47.png\n",
      "48.png\n",
      "49.png\n",
      "5.png\n",
      "50.png\n",
      "51.png\n",
      "52.png\n",
      "53.png\n",
      "54.png\n",
      "55.png\n",
      "57.png\n",
      "58.png\n",
      "59.png\n",
      "60.png\n",
      "61.png\n",
      "62.png\n",
      "63.png\n",
      "64.png\n",
      "65.png\n",
      "66.png\n",
      "67.png\n",
      "68.png\n",
      "69.png\n",
      "7.png\n",
      "70.png\n",
      "71.png\n",
      "72.png\n",
      "74.png\n",
      "75.png\n",
      "76.png\n",
      "77.png\n",
      "78.png\n",
      "79.png\n",
      "8.png\n",
      "80.png\n",
      "81.png\n",
      "82.png\n",
      "83.png\n",
      "84.png\n",
      "85.png\n",
      "86.png\n",
      "87.png\n",
      "89.png\n",
      "9.png\n",
      "90.png\n",
      "91.png\n",
      "92.png\n",
      "93.png\n",
      "94.png\n",
      "95.png\n",
      "96.png\n",
      "97.png\n",
      "99.png\n"
     ]
    }
   ],
   "source": [
    "for i in range(len(fnames)):\n",
    "\n",
    "    fname = fnames[i]\n",
    "    print(fname)\n",
    "    convex = cv2.imread(dpath + 'edited_convex/' + fname)\n",
    "    concave = cv2.imread(dpath + 'edited_concave/' + fname)\n",
    "    \n",
    "    corner = cv2.bitwise_or(convex, concave)\n",
    "    cv2.imwrite('../../img/corner2/edited_corner/' + fname, corner)"
   ]
  },
  {
   "cell_type": "code",
   "execution_count": 10,
   "metadata": {},
   "outputs": [
    {
     "name": "stdout",
     "output_type": "stream",
     "text": [
      "41.png\n"
     ]
    }
   ],
   "source": [
    "for i in range(len(fnames)):\n",
    "\n",
    "    fname = '41.png'\n",
    "    print(fname)\n",
    "    convex = cv2.imread(dpath + 'edited_convex/' + fname)\n",
    "    concave = cv2.imread(dpath + 'edited_concave/' + fname)\n",
    "    \n",
    "    corner = cv2.bitwise_or(convex, concave)\n",
    "    cv2.imwrite('../../img/corner2/edited_corner/' + fname, corner)\n",
    "    break"
   ]
  },
  {
   "cell_type": "code",
   "execution_count": 623,
   "metadata": {},
   "outputs": [],
   "source": [
    "# 検出漏れの点を手作業で足す"
   ]
  },
  {
   "cell_type": "code",
   "execution_count": 624,
   "metadata": {},
   "outputs": [
    {
     "name": "stdout",
     "output_type": "stream",
     "text": [
      "0.png\n",
      "1.png\n",
      "100.png\n",
      "101.png\n",
      "102.png\n"
     ]
    },
    {
     "ename": "error",
     "evalue": "OpenCV(4.4.0) /private/var/folders/nz/vv4_9tw56nv9k3tkvyszvwg80000gn/T/pip-req-build-_xfu06ks/opencv/modules/core/src/arithm.cpp:234: error: (-209:Sizes of input arguments do not match) The operation is neither 'array op array' (where arrays have the same size and type), nor 'array op scalar', nor 'scalar op array' in function 'binary_op'\n",
     "output_type": "error",
     "traceback": [
      "\u001b[0;31m---------------------------------------------------------------------------\u001b[0m",
      "\u001b[0;31merror\u001b[0m                                     Traceback (most recent call last)",
      "\u001b[0;32m<ipython-input-624-e5af6f1a4ca4>\u001b[0m in \u001b[0;36m<module>\u001b[0;34m()\u001b[0m\n\u001b[1;32m      6\u001b[0m     \u001b[0mcorner\u001b[0m \u001b[0;34m=\u001b[0m \u001b[0mcv2\u001b[0m\u001b[0;34m.\u001b[0m\u001b[0mimread\u001b[0m\u001b[0;34m(\u001b[0m\u001b[0mdpath\u001b[0m \u001b[0;34m+\u001b[0m \u001b[0;34m'edited_corner/'\u001b[0m \u001b[0;34m+\u001b[0m \u001b[0mfname\u001b[0m\u001b[0;34m)\u001b[0m\u001b[0;34m\u001b[0m\u001b[0m\n\u001b[1;32m      7\u001b[0m \u001b[0;34m\u001b[0m\u001b[0m\n\u001b[0;32m----> 8\u001b[0;31m     \u001b[0mcorner\u001b[0m \u001b[0;34m=\u001b[0m \u001b[0mcv2\u001b[0m\u001b[0;34m.\u001b[0m\u001b[0mbitwise_or\u001b[0m\u001b[0;34m(\u001b[0m\u001b[0mconvex\u001b[0m\u001b[0;34m,\u001b[0m \u001b[0mconcave\u001b[0m\u001b[0;34m)\u001b[0m\u001b[0;34m\u001b[0m\u001b[0m\n\u001b[0m\u001b[1;32m      9\u001b[0m     \u001b[0mcv2\u001b[0m\u001b[0;34m.\u001b[0m\u001b[0mimwrite\u001b[0m\u001b[0;34m(\u001b[0m\u001b[0;34m'../../img/corner2/edited_corner/'\u001b[0m \u001b[0;34m+\u001b[0m \u001b[0mfname\u001b[0m\u001b[0;34m,\u001b[0m \u001b[0mcorner\u001b[0m\u001b[0;34m)\u001b[0m\u001b[0;34m\u001b[0m\u001b[0m\n",
      "\u001b[0;31merror\u001b[0m: OpenCV(4.4.0) /private/var/folders/nz/vv4_9tw56nv9k3tkvyszvwg80000gn/T/pip-req-build-_xfu06ks/opencv/modules/core/src/arithm.cpp:234: error: (-209:Sizes of input arguments do not match) The operation is neither 'array op array' (where arrays have the same size and type), nor 'array op scalar', nor 'scalar op array' in function 'binary_op'\n"
     ]
    }
   ],
   "source": [
    "for i in range(len(fnames)):\n",
    "\n",
    "    fname = fnames[i]\n",
    "    print(fname)\n",
    "    convex = cv2.imread('../../img/foreground2_fixed/' + fname)\n",
    "    corner = cv2.imread(dpath + 'edited_corner/' + fname)\n",
    "    \n",
    "    corner = cv2.bitwise_or(convex, concave)\n",
    "    cv2.imwrite('../../img/corner2/edited_corner/' + fname, corner)"
   ]
  },
  {
   "cell_type": "code",
   "execution_count": null,
   "metadata": {},
   "outputs": [],
   "source": [
    "RED = [255,0,0]\n",
    "\n",
    "thickness = 10           # brush thickness\n",
    "\n",
    "def onmouse(event, x, y, flags, param):\n",
    "\n",
    "    if event == cv2.EVENT_LBUTTONDOWN:\n",
    "        cv2.circle(img, (x,y), thickness, RED, -1)\n",
    "\n",
    "img = cv2.imread(dpath + 'corner/' + fname)\n",
    "print(fname)\n",
    "show(img)\n",
    "img_copy = img.copy()                               # a copy of original image\n",
    "mask = np.zeros(img.shape[:2], dtype = np.uint8)\n",
    "\n",
    "\n",
    "\n",
    "# input and output windows\n",
    "cv2.namedWindow('corner')\n",
    "cv2.setMouseCallback('coner', onmouse)\n",
    "cv2.moveWindow('corner', img.shape[1]+10,90)\n",
    "\n",
    "while(1):\n",
    "\n",
    "    cv2.imshow('coner', img)\n",
    "    k = cv2.waitKey(1)\n",
    "\n",
    "    # key bindings\n",
    "    if k == ord('9'):         # esc to exit\n",
    "        break\n",
    "    elif k == ord('0'): # BG drawing\n",
    "        print(\"0: mark background regions with left mouse button \\n\")\n",
    "        value = TOGGLE\n",
    "    elif k == ord('s'): # save image\n",
    "        mask_CONVEXtoCONCAVE = np.where((mask==1) , 255, 0).astype('uint8')\n",
    "        mask_CONCAVEtoCONVEX = np.where((mask==1) , 0, 255).astype('uint8')\n",
    "        concave = cv2.bitwise_and(concave, concave, mask = mask_CONCAVEtoCONVEX)\n",
    "        convex = cv2.bitwise_and(convex, convex, mask = mask_CONVEXtoCONCAVE)\n",
    "        \n",
    "        cv2.imwrite('../../img/corner2/edited_convex/' + fname, convex)\n",
    "        cv2.imwrite('../../img/corner2/edited_concave/' + fname, concave)\n",
    "        print(\" Result saved as image \\n\")\n",
    "    elif k == ord('r'): # reset everything\n",
    "        print(\"resetting \\n\")\n",
    "        value = CONVEXtoCONCAVE\n",
    "        img = img_copy.copy()\n",
    "        mask = np.zeros(img.shape[:2], dtype = np.uint8) # mask initialized to PR_BG\n",
    "    elif k == ord('c'): \n",
    "        show(convex)\n",
    "        show(concave)\n"
   ]
  },
  {
   "cell_type": "markdown",
   "metadata": {},
   "source": [
    "確認用"
   ]
  },
  {
   "cell_type": "code",
   "execution_count": 40,
   "metadata": {},
   "outputs": [
    {
     "name": "stdout",
     "output_type": "stream",
     "text": [
      "248\n",
      "/Users/nakatani/labo/grabcut/samples/python\r\n"
     ]
    },
    {
     "data": {
      "text/plain": [
       "<matplotlib.figure.Figure at 0x7fca8855d5f8>"
      ]
     },
     "metadata": {},
     "output_type": "display_data"
    }
   ],
   "source": [
    "import cv2\n",
    "import numpy as np\n",
    "from matplotlib import pyplot as plt\n",
    "import os\n",
    "import re\n",
    "import math\n",
    "plt.gray()\n",
    "fnames = !ls /Users/nakatani/labo/grabcut/img/foreground2_fixed\n",
    "print(len(fnames))\n",
    "dpath = '../../img/corner2/'\n",
    "\n",
    "!pwd\n",
    "for fname in fnames:\n",
    "    corner = cv2.imread('../../img/corner2/edited_corner/' + fname)\n",
    "    corner = cv2.dilate(corner, np.ones((3,3), np.uint8))\n",
    "    g = corner[:,:,1]\n",
    "    corner[:,:,2] = g\n",
    "    corner[:,:,1] = np.zeros(corner.shape[:2])\n",
    "    boun = cv2.imread( '../../img/boundary2/' + fname, cv2.IMREAD_GRAYSCALE)\n",
    "    boun = cv2.cvtColor(boun,cv2.COLOR_GRAY2BGR)\n",
    "    img = cv2.bitwise_or(corner, boun)\n",
    "#     plt.figure(figsize=(20,20))\n",
    "#     plt.imshow(img), plt.plot()\n",
    "#     break\n",
    "    cv2.imwrite('../../img/check_corner/' + fname, img)\n",
    "    \n",
    "    "
   ]
  },
  {
   "cell_type": "code",
   "execution_count": 30,
   "metadata": {},
   "outputs": [
    {
     "data": {
      "text/plain": [
       "(1000, 1509, 3)"
      ]
     },
     "execution_count": 30,
     "metadata": {},
     "output_type": "execute_result"
    }
   ],
   "source": [
    "boun.shape"
   ]
  },
  {
   "cell_type": "code",
   "execution_count": 12,
   "metadata": {},
   "outputs": [
    {
     "data": {
      "text/plain": [
       "(1000, 1509, 3)"
      ]
     },
     "execution_count": 12,
     "metadata": {},
     "output_type": "execute_result"
    }
   ],
   "source": [
    "corner.shape"
   ]
  },
  {
   "cell_type": "code",
   "execution_count": 25,
   "metadata": {},
   "outputs": [],
   "source": [
    "corner"
   ]
  },
  {
   "cell_type": "code",
   "execution_count": 26,
   "metadata": {},
   "outputs": [
    {
     "data": {
      "text/plain": [
       "1000"
      ]
     },
     "execution_count": 26,
     "metadata": {},
     "output_type": "execute_result"
    }
   ],
   "source": [
    "len(g)"
   ]
  },
  {
   "cell_type": "code",
   "execution_count": null,
   "metadata": {},
   "outputs": [],
   "source": []
  }
 ],
 "metadata": {
  "kernelspec": {
   "display_name": "Python 3",
   "language": "python",
   "name": "python3"
  },
  "language_info": {
   "codemirror_mode": {
    "name": "ipython",
    "version": 3
   },
   "file_extension": ".py",
   "mimetype": "text/x-python",
   "name": "python",
   "nbconvert_exporter": "python",
   "pygments_lexer": "ipython3",
   "version": "3.5.4"
  }
 },
 "nbformat": 4,
 "nbformat_minor": 2
}
