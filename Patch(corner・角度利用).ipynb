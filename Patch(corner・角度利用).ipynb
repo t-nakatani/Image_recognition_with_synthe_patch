{
 "cells": [
  {
   "cell_type": "code",
   "execution_count": 1,
   "metadata": {},
   "outputs": [
    {
     "name": "stdout",
     "output_type": "stream",
     "text": [
      "256\n",
      "/Users/nakatani/labo/grabcut/samples/python\r\n"
     ]
    }
   ],
   "source": [
    "import cv2\n",
    "import numpy as np\n",
    "from matplotlib import pyplot as plt\n",
    "import os\n",
    "import re\n",
    "plt.gray()\n",
    "fnames = !ls /Users/nakatani/labo/grabcut/img/foreground_fixed\n",
    "print(len(fnames))\n",
    "!pwd"
   ]
  },
  {
   "cell_type": "code",
   "execution_count": 116,
   "metadata": {},
   "outputs": [],
   "source": [
    "def check_convex(img, c1, c2):\n",
    "    x1 = int(c1[0]*0.8 + c2[0]*0.2)\n",
    "    y1 = int(c1[1]*0.8 + c2[1]*0.2)    \n",
    "    x2 = int(c1[0]*0.2 + c2[0]*0.8)    \n",
    "    y2 = int(c1[1]*0.2 + c2[1]*0.8)\n",
    "    x3 = int(c1[0]*0.5 + c2[0]*0.5)    \n",
    "    y3 = int(c1[1]*0.5 + c2[1]*0.5)\n",
    "    \n",
    "    if img[y1][x1][0] + img[y2][x2][0] + img[y3][x3][0]== 0:\n",
    "        return False\n",
    "    else: return True"
   ]
  },
  {
   "cell_type": "code",
   "execution_count": null,
   "metadata": {},
   "outputs": [],
   "source": [
    "def Harris(gray_img):\n",
    "    gray = np.float32(gray_img)\n",
    "    dst = cv2.cornerHarris(gray,11,11,0.1)\n",
    "    dst = cv2.dilate(dst,None)\n",
    "    ret, dst = cv2.threshold(dst,0.3*dst.max(),255,0)\n",
    "    dst = np.uint8(dst)\n",
    "    return(dst)"
   ]
  },
  {
   "cell_type": "code",
   "execution_count": null,
   "metadata": {},
   "outputs": [],
   "source": []
  },
  {
   "cell_type": "code",
   "execution_count": 1,
   "metadata": {},
   "outputs": [
    {
     "ename": "NameError",
     "evalue": "name 'fnames' is not defined",
     "output_type": "error",
     "traceback": [
      "\u001b[0;31m---------------------------------------------------------------------------\u001b[0m",
      "\u001b[0;31mNameError\u001b[0m                                 Traceback (most recent call last)",
      "\u001b[0;32m<ipython-input-1-1e8f9dcefc60>\u001b[0m in \u001b[0;36m<module>\u001b[0;34m()\u001b[0m\n\u001b[1;32m      6\u001b[0m \u001b[0;34m\u001b[0m\u001b[0m\n\u001b[1;32m      7\u001b[0m \u001b[0;34m\u001b[0m\u001b[0m\n\u001b[0;32m----> 8\u001b[0;31m \u001b[0;32mfor\u001b[0m \u001b[0mi\u001b[0m \u001b[0;32min\u001b[0m \u001b[0mrange\u001b[0m\u001b[0;34m(\u001b[0m\u001b[0mlen\u001b[0m\u001b[0;34m(\u001b[0m\u001b[0mfnames\u001b[0m\u001b[0;34m)\u001b[0m\u001b[0;34m)\u001b[0m\u001b[0;34m:\u001b[0m\u001b[0;34m\u001b[0m\u001b[0m\n\u001b[0m\u001b[1;32m      9\u001b[0m \u001b[0;31m#     if i < 256: continue\u001b[0m\u001b[0;34m\u001b[0m\u001b[0;34m\u001b[0m\u001b[0m\n\u001b[1;32m     10\u001b[0m     \u001b[0mi\u001b[0m \u001b[0;34m=\u001b[0m \u001b[0;36m10\u001b[0m\u001b[0;34m\u001b[0m\u001b[0m\n",
      "\u001b[0;31mNameError\u001b[0m: name 'fnames' is not defined"
     ]
    }
   ],
   "source": [
    "mask = '../../img/mask/'\n",
    "boundary = '../../img/boundary/'\n",
    "foreground = '../../img/foreground_fixed/'\n",
    "\n",
    "l = 20\n",
    "\n",
    "\n",
    "for i in range(len(fnames)):\n",
    "#     if i < 256: continue\n",
    "    i = 10\n",
    "    fname = fnames[i]\n",
    "    print(fname, i)\n",
    "    \n",
    "#     if not os.path.exists('../../img/patch/i' + re.sub('.png', '', fname)): os.makedirs('../../img/patch/i' + re.sub('.png', '', fname))\n",
    "#     if not os.path.exists('../../img/patch/m' + re.sub('.png', '', fname)): os.makedirs('../../img/patch/m' + re.sub('.png', '', fname))\n",
    "    \n",
    "    \n",
    "    img = cv2.imread(foreground + fname)\n",
    "    img_copy = img + 0\n",
    "    img_copy2 = img + 0\n",
    "    mask_img = cv2.imread(mask + fname)\n",
    "    boundary_img = cv2.imread(boundary + fname)\n",
    "    gray = cv2.cvtColor(mask_img,cv2.COLOR_BGR2GRAY)\n",
    "    boundary_copy = boundary_img + 0\n",
    "\n",
    "    dst = Harris(gray) # find Harris corners\n",
    "\n",
    "    # find centroids\n",
    "    ret, labels, stats, centroids = cv2.connectedComponentsWithStats(dst)\n",
    "\n",
    "    # コーナーの重心を探す\n",
    "    res = np.int64(centroids)\n",
    "    mask_img[res[1:,1],res[1:,0]]=[0,0,255]\n",
    "    coord = np.where(np.all(mask_img == (0, 0, 255), axis=-1))\n",
    "    \n",
    "    cnt = 0\n",
    "    \n",
    "    for j in range(len(coord[0])):\n",
    "        blank = np.zeros(img.shape, np.uint8)\n",
    "        blank = cv2.circle(blank, (coord[1][j],coord[0][j]), 60, [255,255,0],1)\n",
    "        boundary_copy = cv2.circle(boundary_copy, (coord[1][j],coord[0][j]), 60, [255,255,0],1)\n",
    "        img_copy2_ = img_copy2 + 0\n",
    "        img_copy2_ = cv2.circle(img_copy2_, (coord[1][j],coord[0][j]), 1, [255,0,0],9)\n",
    "        \n",
    "        \n",
    "        #and(円・境界線)でパッチ中心を決める\n",
    "        and_img = cv2.bitwise_and(boundary_img, blank)\n",
    "        gray_and = cv2.cvtColor(and_img, cv2.COLOR_BGR2GRAY)\n",
    "        _, gray_and = cv2.threshold(gray_and, 1, 255, cv2.THRESH_BINARY)\n",
    "#         plt.imshow(gray_and, cmap = \"gray\"), plt.show()\n",
    "        gray_and = cv2.dilate(gray_and,None)\n",
    "        contours, hierarchy = cv2.findContours(gray_and, cv2.RETR_LIST, cv2.CHAIN_APPROX_NONE)  \n",
    "        \n",
    "        list = []\n",
    "#         for i in range(len(contours)):\n",
    "        for k in range(2):\n",
    "            M = cv2.moments(contours[k])\n",
    "            if M['m00'] == 0:\n",
    "                continue\n",
    "            cx = int(M['m10']/M['m00'])\n",
    "            cy = int(M['m01']/M['m00'])\n",
    "            list.append((cx, cy))\n",
    "    #     pruning(list, 30)\n",
    "\n",
    "        cx, cy = (coord[1][j],coord[0][j])\n",
    "        cx1, cy1 = list[0] \n",
    "        cx2, cy2 = list[1] \n",
    "#         v1 = np.array([cx1 - cx, cy1 - cy])\n",
    "#         v2 = np.array([cx2 - cx, cy2 - cy])\n",
    "        \n",
    "#         print(list[1])\n",
    "        \n",
    "        # cx, cy, cx1, cy1, cx2, cy2 から角度計算\n",
    "        calc_radian((cx, cy), list[0], list[1])\n",
    "        \n",
    "#         print(tangent_angle(v1, v2))\n",
    "        \n",
    "#         print(cx, cy, cx1, cy1, cx2, cy2)\n",
    "    \n",
    "        \n",
    "        patch1 = img[cy1-l:cy1+l, cx1-l:cx1+l]\n",
    "        patch2 = img[cy2-l:cy2+l, cx2-l:cx2+l]\n",
    "        img_copy = cv2.rectangle(img_copy, (cx1-l, cy1-l), (cx1+l, cy1+l), (255, 0, 0), thickness=2)\n",
    "        img_copy = cv2.rectangle(img_copy, (cx2-l, cy2-l), (cx2+l, cy2+l), (255, 0, 0), thickness=2)\n",
    "        \n",
    "        img_copy2_ = cv2.circle(img_copy2_, (cx1,cy1), 1, [0,255,0],9)\n",
    "        img_copy2_ = cv2.circle(img_copy2_, (cx2,cy2), 1, [0,255,0],9)\n",
    "        plt.figure(figsize = (10,20))\n",
    "        if not(check_convex(img, list[0], list[1])): \n",
    "            plt.imshow(img_copy2_), plt.show()\n",
    "        else:\n",
    "            plt.imshow(img_copy2_), plt.show()\n",
    "            print(\"==============^^^ this corner is convex ^^^=================\")\n",
    "            \n",
    "        \n",
    "        \n",
    "#         if patch.shape[0] * patch.shape[1] == 0:\n",
    "#             print(fname, i)\n",
    "#             continue\n",
    "        \n",
    "#         syn1, syn2 = synthesis(patch1, patch2)\n",
    "#         mask1, mask2 = synthesis_mask(patch1, patch2)\n",
    "#         cv2.imwrite('../../img/patch/i' + re.sub('.png', '', fname) + '/'  + str(cnt) + '.png', syn1)\n",
    "#         cv2.imwrite('../../img/patch/m' + re.sub('.png', '', fname) + '/'  + str(cnt) + '.png', mask1)\n",
    "        cnt += 1\n",
    "#         cv2.imwrite('../../img/patch/i' + re.sub('.png', '', fname) + '/'  + str(cnt) + '.png', syn2)\n",
    "#         cv2.imwrite('../../img/patch/m' + re.sub('.png', '', fname) + '/'  + str(cnt) + '.png', mask2)\n",
    "        cnt += 1\n",
    "    plt.figure(figsize = (29,20))\n",
    "    \n",
    "    plt.imshow(img_copy2)\n",
    "#         img = cv2.cvtColor(img,cv2.COLOR_BGR2RGB)\n",
    "#     img_copy = cv2.cvtColor(img_copy,cv2.COLOR_BGR2RGB)\n",
    "#     cv2.imwrite('../../img/patch/rectangle/' + fname, img_copy)\n",
    "    break\n",
    "\n",
    "\n",
    "# plt.show()"
   ]
  },
  {
   "cell_type": "code",
   "execution_count": 105,
   "metadata": {},
   "outputs": [],
   "source": [
    "import math\n",
    "cx, cy, cx1, cy1, cx2, cy2 = [0, 1, 2, 3, 4, 6]\n",
    "\n",
    "v1 = np.array([cx1 - cx, cy1 - cy])\n",
    "v2 = np.array([cx2 - cx, cy2 - cy])\n",
    "\n",
    "cos = np.inner(v1, v2) /  (np.linalg.norm(v1) * np.linalg.norm(v2))\n",
    "theta = math.acos(cos)\n",
    "\n"
   ]
  },
  {
   "cell_type": "code",
   "execution_count": 133,
   "metadata": {},
   "outputs": [],
   "source": [
    "def calc_radian(c, c1, c2):\n",
    "    cx, cy = c\n",
    "    cx1, cy1 = c1\n",
    "    cx2, cy2 = c2\n",
    "    v1 = np.array([cx1 - cx, cy1 - cy])\n",
    "    v2 = np.array([cx2 - cx, cy2 - cy])\n",
    "\n",
    "    cos_theta = np.inner(v1, v2) /  (np.linalg.norm(v1) * np.linalg.norm(v2))\n",
    "    theta = math.acos(np.clip(cos_theta, -1.0, 1.0))\n",
    "#     print(math.degrees(theta))\n",
    "#     print(c)\n",
    "    \n",
    "    return theta"
   ]
  },
  {
   "cell_type": "code",
   "execution_count": 134,
   "metadata": {},
   "outputs": [],
   "source": [
    "a = [1, 2]\n",
    "a1, a2 = a"
   ]
  },
  {
   "cell_type": "code",
   "execution_count": 135,
   "metadata": {},
   "outputs": [
    {
     "data": {
      "text/plain": [
       "0.7853981633974484"
      ]
     },
     "execution_count": 135,
     "metadata": {},
     "output_type": "execute_result"
    }
   ],
   "source": [
    "calc_radian((0, 0), (0, 1), (1, 1))"
   ]
  },
  {
   "cell_type": "code",
   "execution_count": 136,
   "metadata": {},
   "outputs": [],
   "source": [
    "from numpy import linalg as LA\n",
    "def tangent_angle(u: np.ndarray, v: np.ndarray):\n",
    "    i = np.inner(u, v)\n",
    "    n = LA.norm(u) * LA.norm(v)\n",
    "    c = i / n\n",
    "    return np.rad2deg(np.arccos(np.clip(c, -1.0, 1.0)))"
   ]
  },
  {
   "cell_type": "code",
   "execution_count": 137,
   "metadata": {},
   "outputs": [],
   "source": [
    "def check_convex(img, c1, c2):\n",
    "    x1 = int(c1[0]*0.8 + c2[0]*0.2)\n",
    "    y1 = int(c1[1]*0.8 + c2[1]*0.2)    \n",
    "    x2 = int(c1[0]*0.2 + c2[0]*0.8)    \n",
    "    y2 = int(c1[1]*0.2 + c2[1]*0.8)\n",
    "    x3 = int(c1[0]*0.5 + c2[0]*0.5)    \n",
    "    y3 = int(c1[1]*0.5 + c2[1]*0.5)\n",
    "    \n",
    "    if img[y1][x1][0] + img[y2][x2][0] + img[y3][x3][0]== 0:\n",
    "        return False\n",
    "    else: return True"
   ]
  },
  {
   "cell_type": "code",
   "execution_count": 139,
   "metadata": {
    "scrolled": false
   },
   "outputs": [
    {
     "name": "stdout",
     "output_type": "stream",
     "text": [
      "0.png 0\n",
      "1.png 1\n"
     ]
    },
    {
     "name": "stderr",
     "output_type": "stream",
     "text": [
      "/Users/nakatani/.pyenv/versions/anaconda3-5.3.0/envs/grabcut/lib/python3.5/site-packages/ipykernel_launcher.py:9: RuntimeWarning: overflow encountered in ubyte_scalars\n",
      "  if __name__ == '__main__':\n"
     ]
    },
    {
     "name": "stdout",
     "output_type": "stream",
     "text": [
      "10.png 2\n",
      "100.png 3\n",
      "101.png 4\n",
      "102.png 5\n",
      "103.png 6\n"
     ]
    },
    {
     "name": "stderr",
     "output_type": "stream",
     "text": [
      "/Users/nakatani/.pyenv/versions/anaconda3-5.3.0/envs/grabcut/lib/python3.5/site-packages/matplotlib/pyplot.py:528: RuntimeWarning: More than 20 figures have been opened. Figures created through the pyplot interface (`matplotlib.pyplot.figure`) are retained until explicitly closed and may consume too much memory. (To control this warning, see the rcParam `figure.max_open_warning`).\n",
      "  max_open_warning, RuntimeWarning)\n"
     ]
    },
    {
     "name": "stdout",
     "output_type": "stream",
     "text": [
      "104.png 7\n",
      "105.png 8\n",
      "108.png 9\n",
      "109.png 10\n",
      "11.png 11\n"
     ]
    },
    {
     "data": {
      "text/plain": [
       "<matplotlib.figure.Figure at 0x7f84f89157b8>"
      ]
     },
     "metadata": {},
     "output_type": "display_data"
    },
    {
     "data": {
      "text/plain": [
       "<matplotlib.figure.Figure at 0x7f8518429940>"
      ]
     },
     "metadata": {},
     "output_type": "display_data"
    },
    {
     "data": {
      "text/plain": [
       "<matplotlib.figure.Figure at 0x7f84a0cb7080>"
      ]
     },
     "metadata": {},
     "output_type": "display_data"
    },
    {
     "data": {
      "text/plain": [
       "<matplotlib.figure.Figure at 0x7f84f8915dd8>"
      ]
     },
     "metadata": {},
     "output_type": "display_data"
    },
    {
     "data": {
      "text/plain": [
       "<matplotlib.figure.Figure at 0x7f84a08b2f98>"
      ]
     },
     "metadata": {},
     "output_type": "display_data"
    },
    {
     "data": {
      "text/plain": [
       "<matplotlib.figure.Figure at 0x7f84a08b2c50>"
      ]
     },
     "metadata": {},
     "output_type": "display_data"
    },
    {
     "data": {
      "text/plain": [
       "<matplotlib.figure.Figure at 0x7f84a0cad160>"
      ]
     },
     "metadata": {},
     "output_type": "display_data"
    },
    {
     "data": {
      "text/plain": [
       "<matplotlib.figure.Figure at 0x7f84a0cad978>"
      ]
     },
     "metadata": {},
     "output_type": "display_data"
    },
    {
     "data": {
      "text/plain": [
       "<matplotlib.figure.Figure at 0x7f84a0c8c588>"
      ]
     },
     "metadata": {},
     "output_type": "display_data"
    },
    {
     "data": {
      "text/plain": [
       "<matplotlib.figure.Figure at 0x7f84a0c8c748>"
      ]
     },
     "metadata": {},
     "output_type": "display_data"
    },
    {
     "data": {
      "text/plain": [
       "<matplotlib.figure.Figure at 0x7f849856b080>"
      ]
     },
     "metadata": {},
     "output_type": "display_data"
    },
    {
     "data": {
      "text/plain": [
       "<matplotlib.figure.Figure at 0x7f84f891c5f8>"
      ]
     },
     "metadata": {},
     "output_type": "display_data"
    },
    {
     "data": {
      "text/plain": [
       "<matplotlib.figure.Figure at 0x7f84a0c8ceb8>"
      ]
     },
     "metadata": {},
     "output_type": "display_data"
    },
    {
     "data": {
      "text/plain": [
       "<matplotlib.figure.Figure at 0x7f84a0cbb3c8>"
      ]
     },
     "metadata": {},
     "output_type": "display_data"
    },
    {
     "data": {
      "text/plain": [
       "<matplotlib.figure.Figure at 0x7f85183b8a58>"
      ]
     },
     "metadata": {},
     "output_type": "display_data"
    },
    {
     "data": {
      "text/plain": [
       "<matplotlib.figure.Figure at 0x7f85183b8f28>"
      ]
     },
     "metadata": {},
     "output_type": "display_data"
    },
    {
     "data": {
      "text/plain": [
       "<matplotlib.figure.Figure at 0x7f85183b8c18>"
      ]
     },
     "metadata": {},
     "output_type": "display_data"
    },
    {
     "data": {
      "text/plain": [
       "<matplotlib.figure.Figure at 0x7f84f89230f0>"
      ]
     },
     "metadata": {},
     "output_type": "display_data"
    },
    {
     "data": {
      "text/plain": [
       "<matplotlib.figure.Figure at 0x7f85183b8278>"
      ]
     },
     "metadata": {},
     "output_type": "display_data"
    },
    {
     "data": {
      "text/plain": [
       "<matplotlib.figure.Figure at 0x7f84f8c36be0>"
      ]
     },
     "metadata": {},
     "output_type": "display_data"
    },
    {
     "data": {
      "text/plain": [
       "<matplotlib.figure.Figure at 0x7f84f8c36470>"
      ]
     },
     "metadata": {},
     "output_type": "display_data"
    },
    {
     "data": {
      "text/plain": [
       "<matplotlib.figure.Figure at 0x7f85183dcef0>"
      ]
     },
     "metadata": {},
     "output_type": "display_data"
    },
    {
     "data": {
      "text/plain": [
       "<matplotlib.figure.Figure at 0x7f85183dc6d8>"
      ]
     },
     "metadata": {},
     "output_type": "display_data"
    },
    {
     "data": {
      "text/plain": [
       "<matplotlib.figure.Figure at 0x7f84d83ecac8>"
      ]
     },
     "metadata": {},
     "output_type": "display_data"
    },
    {
     "data": {
      "text/plain": [
       "<matplotlib.figure.Figure at 0x7f85183dc080>"
      ]
     },
     "metadata": {},
     "output_type": "display_data"
    },
    {
     "data": {
      "text/plain": [
       "<matplotlib.figure.Figure at 0x7f851838f908>"
      ]
     },
     "metadata": {},
     "output_type": "display_data"
    },
    {
     "data": {
      "text/plain": [
       "<matplotlib.figure.Figure at 0x7f851838fb70>"
      ]
     },
     "metadata": {},
     "output_type": "display_data"
    },
    {
     "data": {
      "text/plain": [
       "<matplotlib.figure.Figure at 0x7f851837f7b8>"
      ]
     },
     "metadata": {},
     "output_type": "display_data"
    },
    {
     "data": {
      "text/plain": [
       "<matplotlib.figure.Figure at 0x7f8519ecef98>"
      ]
     },
     "metadata": {},
     "output_type": "display_data"
    },
    {
     "data": {
      "text/plain": [
       "<matplotlib.figure.Figure at 0x7f8519ecee80>"
      ]
     },
     "metadata": {},
     "output_type": "display_data"
    },
    {
     "data": {
      "text/plain": [
       "<matplotlib.figure.Figure at 0x7f851837f438>"
      ]
     },
     "metadata": {},
     "output_type": "display_data"
    },
    {
     "data": {
      "text/plain": [
       "<matplotlib.figure.Figure at 0x7f84f8c395f8>"
      ]
     },
     "metadata": {},
     "output_type": "display_data"
    },
    {
     "data": {
      "text/plain": [
       "<matplotlib.figure.Figure at 0x7f84f8c4b320>"
      ]
     },
     "metadata": {},
     "output_type": "display_data"
    },
    {
     "data": {
      "text/plain": [
       "<matplotlib.figure.Figure at 0x7f84f8c4b710>"
      ]
     },
     "metadata": {},
     "output_type": "display_data"
    },
    {
     "data": {
      "text/plain": [
       "<matplotlib.figure.Figure at 0x7f84f862f198>"
      ]
     },
     "metadata": {},
     "output_type": "display_data"
    },
    {
     "data": {
      "text/plain": [
       "<matplotlib.figure.Figure at 0x7f84a0d9cd68>"
      ]
     },
     "metadata": {},
     "output_type": "display_data"
    }
   ],
   "source": [
    "mask = '../../img/mask/'\n",
    "boundary = '../../img/boundary/'\n",
    "foreground = '../../img/foreground_fixed/'\n",
    "\n",
    "l = 20\n",
    "\n",
    "\n",
    "for i in range(len(fnames)):\n",
    "#     if i < 256: continue\n",
    "#     i = 10\n",
    "    fname = fnames[i]\n",
    "    print(fname, i)\n",
    "    \n",
    "    if not os.path.exists('../../img/patch/' + re.sub('.png', '', fname)): os.makedirs('../../img/patch/' + re.sub('.png', '', fname))\n",
    "    \n",
    "    \n",
    "    img = cv2.imread(foreground + fname)\n",
    "#     img = cv2.cvtColor(img,cv2.COLOR_BGR2RGB)\n",
    "    img_copy = img + 0\n",
    "    img_copy2 = img + 0\n",
    "    mask_img = cv2.imread(mask + fname)\n",
    "    boundary_img = cv2.imread(boundary + fname)\n",
    "    gray = cv2.cvtColor(mask_img,cv2.COLOR_BGR2GRAY)\n",
    "    \n",
    "\n",
    "    # find Harris corners\n",
    "    gray = np.float32(gray)\n",
    "    dst = cv2.cornerHarris(gray,11,11,0.1)\n",
    "    dst = cv2.dilate(dst,None)\n",
    "    ret, dst = cv2.threshold(dst,0.1*dst.max(),255,0)\n",
    "    dst = np.uint8(dst)\n",
    "\n",
    "    # find centroids\n",
    "    ret, labels, stats, centroids = cv2.connectedComponentsWithStats(dst)\n",
    "\n",
    "    # コーナーの重心を探す\n",
    "    res = np.int64(centroids)\n",
    "    mask_img[res[1:,1],res[1:,0]]=[0,0,255]\n",
    "    coord1 = np.where(np.all(mask_img == (0, 0, 255), axis=-1))\n",
    "     # imgに上の重心を中心とする円を描画\n",
    "    boundary_copy = boundary_img + 0\n",
    "    \n",
    "    \n",
    "    \n",
    "    cnt = 0\n",
    "    \n",
    "    for j in range(len(coord1[0])):\n",
    "        blank = np.zeros(img.shape, np.uint8)\n",
    "        blank = cv2.circle(blank, (coord1[1][j],coord1[0][j]), 55, [255,255,0],1)\n",
    "        boundary_copy = cv2.circle(boundary_copy, (coord1[1][j],coord1[0][j]), 55, [0,255,255],2)\n",
    "        img_copy = cv2.circle(img_copy, (coord1[1][j],coord1[0][j]), 7, [255,255,0],3)\n",
    "        boundary_copy = cv2.circle(boundary_copy, (coord1[1][j],coord1[0][j]), 1, [255,0,0],7)\n",
    "        \n",
    "        \n",
    "        #and(円・境界線)でパッチ中心を決める\n",
    "        and_img = cv2.bitwise_and(boundary_img, blank)\n",
    "        gray_and = cv2.cvtColor(and_img, cv2.COLOR_BGR2GRAY)\n",
    "        _, gray_and = cv2.threshold(gray_and, 1, 255, cv2.THRESH_BINARY)\n",
    "        gray_and = cv2.dilate(gray_and,None)\n",
    "        contours, hierarchy = cv2.findContours(gray_and, cv2.RETR_LIST, cv2.CHAIN_APPROX_NONE)  \n",
    "        \n",
    "        list = []\n",
    "        for k in range(2):\n",
    "            M = cv2.moments(contours[k])\n",
    "            if M['m00'] == 0:\n",
    "                continue\n",
    "            cx = int(M['m10']/M['m00'])\n",
    "            cy = int(M['m01']/M['m00'])\n",
    "            list.append((cx, cy))\n",
    "\n",
    "        cx, cy = (coord1[1][j],coord1[0][j])\n",
    "        cx1, cy1 = list[0] \n",
    "        cx2, cy2 = list[1] \n",
    "        if not(check_convex(img, list[0], list[1])): \n",
    "            img_copy = cv2.circle(img_copy, (coord1[1][j],coord1[0][j]), 7, [0,255,0],3)\n",
    "            \n",
    "\n",
    "        \n",
    "        # cx, cy, cx1, cy1, cx2, cy2 から角度計算\n",
    "        calc_radian((cx, cy), list[0], list[1])\n",
    "        \n",
    "        patch1 = img[cy1-l:cy1+l, cx1-l:cx1+l]\n",
    "        patch2 = img[cy2-l:cy2+l, cx2-l:cx2+l]\n",
    "        img_copy2 = cv2.circle(img_copy2, (cx1,cy1), 1, [0,0,255],5)\n",
    "        img_copy2 = cv2.circle(img_copy2, (cx2,cy2), 1, [0,0,255],5)\n",
    "        \n",
    "        img_copy2 = cv2.rectangle(img_copy2, (cx1-l, cy1-l), (cx1+l, cy1+l), (255, 255, 0), thickness=2)\n",
    "        img_copy2 = cv2.rectangle(img_copy2, (cx2-l, cy2-l), (cx2+l, cy2+l), (255, 255, 0), thickness=2)\n",
    "        \n",
    "#         if patch.shape[0] * patch.shape[1] == 0:\n",
    "#             print(fname, i)\n",
    "#             continue\n",
    "        \n",
    "#         syn1, syn2 = synthesis(patch1, patch2)\n",
    "#         cv2.imwrite('../../img/patch/' + re.sub('.png', '', fname) + '/'  + str(cnt) + '.png', syn1)\n",
    "        cnt += 1\n",
    "#         cv2.imwrite('../../img/patch/' + re.sub('.png', '', fname) + '/'  + str(cnt) + '.png', syn2)\n",
    "        cnt += 1\n",
    "    \n",
    "#     plt.imshow(boundary_copy)\n",
    "#         img = cv2.cvtColor(img,cv2.COLOR_BGR2RGB)\n",
    "#     img_copy = cv2.cvtColor(img_copy,cv2.COLOR_BGR2RGB)\n",
    "    img_copy2 = cv2.cvtColor(img_copy2,cv2.COLOR_BGR2RGB)\n",
    "#     cv2.imwrite('../../img/patch/rectangle/' + fname, img_copy)\n",
    "    plt.figure(figsize=(36,24)) \n",
    "    cv2.imwrite('./img/' + fname, img_copy)\n",
    "    img_copy = cv2.cvtColor(img_copy,cv2.COLOR_BGR2RGB)\n",
    "    \n",
    "#     plt.imshow(img_copy),plt.show()\n",
    "\n",
    "    plt.figure(figsize=(36,24)) \n",
    "#     plt.imshow(boundary_copy),plt.show()\n",
    "    \n",
    "    plt.figure(figsize=(36,24)) \n",
    "#     plt.imshow(img_copy2),plt.show()\n",
    "    if i > 10: break\n",
    "\n",
    "\n",
    "# plt.show()\n"
   ]
  },
  {
   "cell_type": "code",
   "execution_count": null,
   "metadata": {},
   "outputs": [],
   "source": []
  },
  {
   "cell_type": "code",
   "execution_count": null,
   "metadata": {},
   "outputs": [],
   "source": []
  }
 ],
 "metadata": {
  "kernelspec": {
   "display_name": "Python 3",
   "language": "python",
   "name": "python3"
  },
  "language_info": {
   "codemirror_mode": {
    "name": "ipython",
    "version": 3
   },
   "file_extension": ".py",
   "mimetype": "text/x-python",
   "name": "python",
   "nbconvert_exporter": "python",
   "pygments_lexer": "ipython3",
   "version": "3.5.4"
  }
 },
 "nbformat": 4,
 "nbformat_minor": 2
}
