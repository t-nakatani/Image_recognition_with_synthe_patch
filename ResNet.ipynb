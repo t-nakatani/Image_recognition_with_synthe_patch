{
 "cells": [
  {
   "cell_type": "markdown",
   "metadata": {},
   "source": [
    "[ResNetをいろんな機械学習ライブラリで実装してみた~TensorFlow編~](https://qiita.com/gucchi0403/items/097d83f0e8a6091c1240)"
   ]
  },
  {
   "cell_type": "code",
   "execution_count": 1,
   "metadata": {},
   "outputs": [],
   "source": [
    "import cv2\n",
    "import numpy as np\n",
    "from matplotlib import pyplot as plt\n",
    "import os\n",
    "import re"
   ]
  },
  {
   "cell_type": "code",
   "execution_count": null,
   "metadata": {},
   "outputs": [],
   "source": []
  },
  {
   "cell_type": "code",
   "execution_count": 4,
   "metadata": {},
   "outputs": [],
   "source": [
    "def load_data():\n",
    "    path_patch = '../../img/patch2/'\n",
    "    names = !ls /Users/nakatani/labo/grabcut/img/foreground2_fixed\n",
    "    no_s = [re.sub('.png', '', name) for name in names]\n",
    "    all_data = []\n",
    "    \n",
    "    for no_ in no_s:\n",
    "        path_img = path_patch + 'i' + no_ + '/'\n",
    "        path_mask = path_patch + 'm' + no_ + '/'\n",
    "        fnames = os.listdir(path_img)\n",
    "        \n",
    "        \n",
    "        for fname in fnames:\n",
    "            f_no = re.sub('.png', '', fname)\n",
    "            img = cv2.imread(path_img + fname)\n",
    "            mask = cv2.imread(path_mask + fname)\n",
    "            label = 1 - int(f_no) % 2      #  blue が上 > 0     ,     green が上 > 1\n",
    "            \n",
    "            vec1d = np.hstack((img.flatten(), mask[:,:,:2].flatten(), label)) # 20 * 20 * 5 + 1 = 2001次元\n",
    "            all_data.append(vec1d)\n",
    "    all_data = np.array(all_data)\n",
    "    return all_data"
   ]
  },
  {
   "cell_type": "code",
   "execution_count": 122,
   "metadata": {},
   "outputs": [],
   "source": [
    "def split_data(data_set):\n",
    "    \n",
    "    np.random.shuffle(data_set)\n",
    "    train = data_set[:2303]\n",
    "    test = data_set[2303:]\n",
    "    x_train_data = []\n",
    "    y_train_data = []\n",
    "    x_test_data = []\n",
    "    y_test_data = []\n",
    "    \n",
    "    for data in train:\n",
    "        rgb = np.reshape(data[:1200], (20,20,3))\n",
    "        mask = np.reshape(data[1200:-1], (20,20,2))\n",
    "        x_train_data.append(np.concatenate([rgb, mask], 2))\n",
    "        y_train_data.append(data[-1])\n",
    "        \n",
    "    x_train_data = np.array(x_train_data)\n",
    "    y_train_data = np.array(y_train_data)\n",
    "    \n",
    "    for data in test:\n",
    "        rgb = np.reshape(data[:1200], (20,20,3))\n",
    "        mask = np.reshape(data[1200:-1], (20,20,2))\n",
    "        x_test_data.append(np.concatenate([rgb, mask], 2))\n",
    "        y_test_data.append(data[-1])\n",
    "        \n",
    "    x_test_data = np.array(x_test_data)\n",
    "    y_test_data = np.array(y_test_data)\n",
    "\n",
    "    return x_train_data, y_train_data, x_test_data, y_test_data"
   ]
  },
  {
   "cell_type": "code",
   "execution_count": 123,
   "metadata": {},
   "outputs": [],
   "source": [
    "all_data = load_data()"
   ]
  },
  {
   "cell_type": "code",
   "execution_count": 124,
   "metadata": {},
   "outputs": [
    {
     "data": {
      "text/plain": [
       "(3290, 2001)"
      ]
     },
     "execution_count": 124,
     "metadata": {},
     "output_type": "execute_result"
    }
   ],
   "source": [
    "# num_img > 3290,    dimension > 2401\n",
    "all_data.shape"
   ]
  },
  {
   "cell_type": "code",
   "execution_count": 133,
   "metadata": {},
   "outputs": [],
   "source": [
    "x_train_data, y_train_data, x_test_data, y_test_data = split_data(all_data)"
   ]
  },
  {
   "cell_type": "code",
   "execution_count": 134,
   "metadata": {},
   "outputs": [
    {
     "ename": "ImportError",
     "evalue": "No module named 'tensorflow'",
     "output_type": "error",
     "traceback": [
      "\u001b[0;31m---------------------------------------------------------------------------\u001b[0m",
      "\u001b[0;31mImportError\u001b[0m                               Traceback (most recent call last)",
      "\u001b[0;32m<ipython-input-134-2e72f29a81af>\u001b[0m in \u001b[0;36m<module>\u001b[0;34m()\u001b[0m\n\u001b[1;32m      1\u001b[0m \u001b[0;32mimport\u001b[0m \u001b[0mnumpy\u001b[0m \u001b[0;32mas\u001b[0m \u001b[0mnp\u001b[0m\u001b[0;34m\u001b[0m\u001b[0m\n\u001b[0;32m----> 2\u001b[0;31m \u001b[0;32mimport\u001b[0m \u001b[0mtensorflow\u001b[0m \u001b[0;32mas\u001b[0m \u001b[0mtf\u001b[0m\u001b[0;34m\u001b[0m\u001b[0m\n\u001b[0m\u001b[1;32m      3\u001b[0m \u001b[0;34m\u001b[0m\u001b[0m\n\u001b[1;32m      4\u001b[0m \u001b[0;32mdef\u001b[0m \u001b[0mweight_variable\u001b[0m\u001b[0;34m(\u001b[0m\u001b[0mshape\u001b[0m\u001b[0;34m,\u001b[0m \u001b[0mname\u001b[0m\u001b[0;34m=\u001b[0m\u001b[0;32mNone\u001b[0m\u001b[0;34m)\u001b[0m\u001b[0;34m:\u001b[0m\u001b[0;34m\u001b[0m\u001b[0m\n\u001b[1;32m      5\u001b[0m     \u001b[0;31m# 各層で使用する重み行列を返す関数\u001b[0m\u001b[0;34m\u001b[0m\u001b[0;34m\u001b[0m\u001b[0m\n",
      "\u001b[0;31mImportError\u001b[0m: No module named 'tensorflow'"
     ]
    }
   ],
   "source": [
    "import numpy as np\n",
    "import tensorflow as tf\n",
    "\n",
    "def weight_variable(shape, name=None):\n",
    "    # 各層で使用する重み行列を返す関数\n",
    "    # 標準偏差が0.1の切断正規分布からshapeで指定された形のテンソルを生成し、initialに代入\n",
    "    initial = tf.truncated_normal(shape, stddev=0.1)\n",
    "\n",
    "    # 初期のテンソルがinitialの変数tf.Variableを返す\n",
    "    return tf.Variable(initial, name=name)\n",
    "\n",
    "def softmax_layer(inpt, shape):\n",
    "    # shapeで指定される形の重みをfc_wに代入\n",
    "    fc_w = weight_variable(shape)\n",
    "\n",
    "    # shape[1]で指定される形の重みをfc_bに代入\n",
    "    #初期値はゼロベクトル\n",
    "    fc_b = tf.Variable(tf.zeros([shape[1]]))\n",
    "\n",
    "    # 全結合後、ソフトマックスを計算\n",
    "    fc_h = tf.nn.softmax(tf.matmul(inpt, fc_w) + fc_b)\n",
    "\n",
    "    return fc_h\n",
    "\n",
    "def conv_layer(inpt, filter_shape, stride):\n",
    "    # 入力データのチャンネル数をinpt_channelsに代入\n",
    "    inpt_channels =  inpt.get_shape().as_list()[3]\n",
    "\n",
    "    # Batch Normalization\n",
    "    # チャンネル毎に平均meanと分散varを計算\n",
    "    mean, var = tf.nn.moments(inpt, axes=[0,1,2])\n",
    "    # Batch Normalizationに使用する学習パラメータbetaとgammaを準備\n",
    "    # betaの初期値はゼロベクトル\n",
    "    beta = tf.Variable(tf.zeros([inpt_channels]), name=\"beta\")\n",
    "    gamma = weight_variable([inpt_channels], name=\"gamma\")\n",
    "    # Batch Normalization実施\n",
    "    batch_norm = tf.nn.batch_norm_with_global_normalization(\n",
    "        inpt, mean, var, beta, gamma, 0.001,\n",
    "        scale_after_normalization=True)\n",
    "\n",
    "    # 活性化関数としてReLU関数使用\n",
    "    out_relu = tf.nn.relu(batch_norm)\n",
    "\n",
    "    # 畳み込み層\n",
    "    # filter_shapeで指定される形の重みをfilter_に代入\n",
    "    filter_ = weight_variable(filter_shape)\n",
    "    # 畳み込み層の出力をoutに代入\n",
    "    out = tf.nn.conv2d(out_relu, filter=filter_, strides=[1, stride, stride, 1], padding=\"SAME\")\n",
    "\n",
    "    return out\n",
    "\n",
    "def residual_block(inpt, output_depth, stride=1, projection=False):\n",
    "    # 入力データのチャンネル数をinput_depthに代入\n",
    "    input_depth = inpt.get_shape().as_list()[3]\n",
    "\n",
    "    # Batch Normalization + Relu +畳み込みを3セット\n",
    "    conv1 = conv_layer(inpt, [1, 1, input_depth, int(output_depth/4)], stride)\n",
    "    conv2 = conv_layer(conv1, [3, 3, int(output_depth/4), int(output_depth/4)], stride)\n",
    "    conv3 = conv_layer(conv2, [1, 1, int(output_depth/4), output_depth], stride)\n",
    "\n",
    "    # 入力と出力のチャンネル数が異なる場合は以下の2つの方法でチャンネル数を揃える\n",
    "    if input_depth != output_depth:\n",
    "        if projection:\n",
    "            # Option B: Projection shortcut\n",
    "            input_layer = conv_layer(inpt, [1, 1, input_depth, output_depth], 2)\n",
    "        else:\n",
    "            # Option A: Zero-padding\n",
    "            # 足りない部分を0でパディング\n",
    "            input_layer = tf.pad(inpt, [[0,0], [0,0], [0,0], [0, output_depth - input_depth]])\n",
    "    else:\n",
    "        input_layer = inpt\n",
    "\n",
    "    # conv3に入力を足す\n",
    "    res = conv3 + input_layer\n",
    "\n",
    "    return res"
   ]
  },
  {
   "cell_type": "code",
   "execution_count": 1,
   "metadata": {},
   "outputs": [],
   "source": [
    "names = !ls /Users/nakatani/labo/grabcut/img/foreground2_fixed\n",
    "path_w = './no.txt'\n",
    "with open(path_w, mode='w') as f:\n",
    "    f.write('\\n'.join(names))"
   ]
  },
  {
   "cell_type": "code",
   "execution_count": null,
   "metadata": {},
   "outputs": [],
   "source": []
  }
 ],
 "metadata": {
  "kernelspec": {
   "display_name": "Python 3",
   "language": "python",
   "name": "python3"
  },
  "language_info": {
   "codemirror_mode": {
    "name": "ipython",
    "version": 3
   },
   "file_extension": ".py",
   "mimetype": "text/x-python",
   "name": "python",
   "nbconvert_exporter": "python",
   "pygments_lexer": "ipython3",
   "version": "3.7.2"
  }
 },
 "nbformat": 4,
 "nbformat_minor": 2
}
