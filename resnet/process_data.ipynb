{
 "cells": [
  {
   "cell_type": "code",
   "execution_count": 13,
   "metadata": {},
   "outputs": [
    {
     "name": "stdout",
     "output_type": "stream",
     "text": [
      "/host/project\r\n"
     ]
    }
   ],
   "source": [
    "!pwd"
   ]
  },
  {
   "cell_type": "markdown",
   "metadata": {},
   "source": [
    "## unzip"
   ]
  },
  {
   "cell_type": "code",
   "execution_count": 1,
   "metadata": {},
   "outputs": [],
   "source": [
    "import zipfile\n",
    "with zipfile.ZipFile('../data/natural2.zip') as existing_zip:\n",
    "    existing_zip.extractall('../data/dataset')"
   ]
  },
  {
   "cell_type": "markdown",
   "metadata": {},
   "source": [
    "## move files"
   ]
  },
  {
   "cell_type": "code",
   "execution_count": 2,
   "metadata": {},
   "outputs": [],
   "source": [
    "import shutil\n",
    "import os\n",
    "\n",
    "# os.makedirs('', exist_ok=True)"
   ]
  },
  {
   "cell_type": "markdown",
   "metadata": {},
   "source": [
    "## move dir"
   ]
  },
  {
   "cell_type": "code",
   "execution_count": 3,
   "metadata": {},
   "outputs": [
    {
     "data": {
      "text/plain": [
       "'../data/dataset/natural_img/natural/'"
      ]
     },
     "execution_count": 3,
     "metadata": {},
     "output_type": "execute_result"
    }
   ],
   "source": [
    "import shutil\n",
    "import os\n",
    "shutil.move('../data/dataset/natural/', '../data/dataset/natural_img/natural/')"
   ]
  },
  {
   "cell_type": "markdown",
   "metadata": {},
   "source": [
    "## remove dir"
   ]
  },
  {
   "cell_type": "code",
   "execution_count": 9,
   "metadata": {},
   "outputs": [],
   "source": [
    "import shutil\n",
    "import os\n",
    "\n",
    "target_dir = '../data/weight'\n",
    "shutil.rmtree(target_dir)\n",
    "os.mkdir(target_dir)"
   ]
  },
  {
   "cell_type": "markdown",
   "metadata": {},
   "source": [
    "## srround img with black rectangle"
   ]
  },
  {
   "cell_type": "code",
   "execution_count": 14,
   "metadata": {},
   "outputs": [],
   "source": [
    "from PIL import Image\n",
    "import numpy as np\n",
    "import matplotlib.pyplot as plt\n",
    "\n",
    "\n",
    "fnames = !ls ../data/dataset/train/right\n",
    "for fname in fnames:\n",
    "    img = Image.open('../data/dataset/train/right/'+fname)\n",
    "    blank = np.zeros((32,32,3), np.uint8)\n",
    "    blank[6:26, 6:26, :] = img\n",
    "    Image.fromarray(blank).save('../data/augumented_dataset/train/right/'+fname)\n",
    "    \n",
    "\n",
    "\n",
    "fnames = !ls ../data/dataset/train/left\n",
    "for fname in fnames:\n",
    "    img = Image.open('../data/dataset/train/left/'+fname)\n",
    "    blank = np.zeros((32,32,3), np.uint8)\n",
    "    blank[6:26, 6:26, :] = img\n",
    "    Image.fromarray(blank).save('../data/augumented_dataset/train/left/'+fname)\n",
    "\n",
    "\n",
    "fnames = !ls ../data/dataset/test/right\n",
    "for fname in fnames:\n",
    "    img = Image.open('../data/dataset/test/right/'+fname)\n",
    "    blank = np.zeros((32,32,3), np.uint8)\n",
    "    blank[6:26, 6:26, :] = img\n",
    "    Image.fromarray(blank).save('../data/augumented_dataset/test/right/'+fname)\n",
    "\n",
    "\n",
    "fnames = !ls ../data/dataset/test/left\n",
    "for fname in fnames:\n",
    "    img = Image.open('../data/dataset/test/left/'+fname)\n",
    "    blank = np.zeros((32,32,3), np.uint8)\n",
    "    blank[6:26, 6:26, :] = img\n",
    "    Image.fromarray(blank).save('../data/augumented_dataset/test/left/'+fname)"
   ]
  },
  {
   "cell_type": "code",
   "execution_count": null,
   "metadata": {},
   "outputs": [],
   "source": []
  }
 ],
 "metadata": {
  "kernelspec": {
   "display_name": "Python 3",
   "language": "python",
   "name": "python3"
  },
  "language_info": {
   "codemirror_mode": {
    "name": "ipython",
    "version": 3
   },
   "file_extension": ".py",
   "mimetype": "text/x-python",
   "name": "python",
   "nbconvert_exporter": "python",
   "pygments_lexer": "ipython3",
   "version": "3.6.9"
  }
 },
 "nbformat": 4,
 "nbformat_minor": 4
}
