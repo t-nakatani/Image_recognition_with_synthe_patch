{
 "cells": [
  {
   "cell_type": "code",
   "execution_count": 1,
   "metadata": {},
   "outputs": [],
   "source": [
    "import os\n",
    "import shutil"
   ]
  },
  {
   "cell_type": "code",
   "execution_count": 6,
   "metadata": {},
   "outputs": [],
   "source": [
    "fnames = !ls ../../img/patch4/mask_check_botu"
   ]
  },
  {
   "cell_type": "code",
   "execution_count": 7,
   "metadata": {},
   "outputs": [
    {
     "data": {
      "text/plain": [
       "222"
      ]
     },
     "execution_count": 7,
     "metadata": {},
     "output_type": "execute_result"
    }
   ],
   "source": [
    "len(fnames)"
   ]
  },
  {
   "cell_type": "code",
   "execution_count": 9,
   "metadata": {},
   "outputs": [],
   "source": [
    "for fname in fnames:\n",
    "    shutil.move('../../img/patch4/img/'+fname, '../../img/patch4/botu/img_botu/'+fname)\n",
    "    shutil.move('../../img/patch4/mask/'+fname, '../../img/patch4/botu/mask_botu/'+fname)"
   ]
  },
  {
   "cell_type": "code",
   "execution_count": null,
   "metadata": {},
   "outputs": [],
   "source": []
  },
  {
   "cell_type": "code",
   "execution_count": null,
   "metadata": {},
   "outputs": [],
   "source": []
  },
  {
   "cell_type": "code",
   "execution_count": null,
   "metadata": {},
   "outputs": [],
   "source": []
  },
  {
   "cell_type": "code",
   "execution_count": null,
   "metadata": {},
   "outputs": [],
   "source": []
  },
  {
   "cell_type": "code",
   "execution_count": null,
   "metadata": {},
   "outputs": [],
   "source": []
  },
  {
   "cell_type": "markdown",
   "metadata": {},
   "source": [
    "没案"
   ]
  },
  {
   "cell_type": "code",
   "execution_count": 16,
   "metadata": {},
   "outputs": [],
   "source": [
    "import re\n",
    "import cv2\n",
    "from matplotlib import pyplot as plt\n",
    "import numpy as np"
   ]
  },
  {
   "cell_type": "code",
   "execution_count": 8,
   "metadata": {},
   "outputs": [],
   "source": [
    "fnames2 = !ls ../../img/patch4/img"
   ]
  },
  {
   "cell_type": "code",
   "execution_count": 9,
   "metadata": {},
   "outputs": [
    {
     "data": {
      "text/plain": [
       "3050"
      ]
     },
     "execution_count": 9,
     "metadata": {},
     "output_type": "execute_result"
    }
   ],
   "source": [
    "len(fnames2)"
   ]
  },
  {
   "cell_type": "code",
   "execution_count": 10,
   "metadata": {},
   "outputs": [],
   "source": [
    "for fname in fnames2:\n",
    "    no_ = re.findall('.+_(\\d+)', fname)[0]\n",
    "    if int(no_)%2 == 0:\n",
    "        shutil.copyfile(\"../../img/patch4/img/\"+fname, \"../../img/dataset/all_data/img/right/\"+fname)\n",
    "        shutil.copyfile(\"../../img/patch4/mask/\"+fname, \"../../img/dataset/all_data/mask/right/\"+fname)\n",
    "    else:\n",
    "        shutil.copyfile(\"../../img/patch4/img/\"+fname, \"../../img/dataset/all_data/img/left/\"+fname)\n",
    "        shutil.copyfile(\"../../img/patch4/img/\"+fname, \"../../img/dataset/all_data/mask/left/\"+fname)\n",
    "    \n"
   ]
  },
  {
   "cell_type": "code",
   "execution_count": 13,
   "metadata": {},
   "outputs": [],
   "source": [
    "X = []\n",
    "y = []\n",
    "for fname in fnames2:\n",
    "    no_ = re.findall('.+_(\\d+)', fname)[0]\n",
    "    label = int(no_) % 2\n",
    "    img = cv2.imread('../../img/patch4/img/'+fname)\n",
    "    X.append(img)\n",
    "    y.append(label)"
   ]
  },
  {
   "cell_type": "code",
   "execution_count": 19,
   "metadata": {},
   "outputs": [
    {
     "data": {
      "text/plain": [
       "(3050, 20, 20, 3)"
      ]
     },
     "execution_count": 19,
     "metadata": {},
     "output_type": "execute_result"
    }
   ],
   "source": [
    "X = np.array(X)\n",
    "y = np.array(y)\n",
    "X.shape"
   ]
  },
  {
   "cell_type": "code",
   "execution_count": 22,
   "metadata": {},
   "outputs": [],
   "source": [
    "from sklearn.model_selection import train_test_split\n",
    "X_train, X_test, y_train, y_test = train_test_split(X, y, random_state=0, stratify=y)"
   ]
  },
  {
   "cell_type": "code",
   "execution_count": 54,
   "metadata": {},
   "outputs": [
    {
     "name": "stdout",
     "output_type": "stream",
     "text": [
      "(2287, 20, 20, 3)\n",
      "(763, 20, 20, 3)\n",
      "(2287,)\n",
      "(763,)\n"
     ]
    }
   ],
   "source": [
    "print(X_train.shape)\n",
    "print(X_test.shape)\n",
    "print(y_train.shape)\n",
    "print(y_test.shape)"
   ]
  },
  {
   "cell_type": "code",
   "execution_count": 65,
   "metadata": {},
   "outputs": [],
   "source": [
    "fnames_right = !ls ../../img/dataset/all_data/img/right\n",
    "fnames_left = !ls ../../img/dataset/all_data/img/left"
   ]
  },
  {
   "cell_type": "code",
   "execution_count": 78,
   "metadata": {},
   "outputs": [],
   "source": [
    "X_r = []\n",
    "X_l = []\n",
    "\n",
    "for fname_r, fname_l in zip(fnames_right, fnames_left):\n",
    "    img_r = cv2.imread('../../img/dataset/all_data/img/right/'+fname_r)\n",
    "    img_l = cv2.imread('../../img/dataset/all_data/img/left/'+fname_l)\n",
    "    img_r = cv2.cvtColor(img_r, cv2.COLOR_BGR2RGB)\n",
    "    img_l = cv2.cvtColor(img_l, cv2.COLOR_BGR2RGB)\n",
    "    X_r.append(img_r)\n",
    "    X_l.append(img_l) "
   ]
  },
  {
   "cell_type": "code",
   "execution_count": 79,
   "metadata": {},
   "outputs": [],
   "source": [
    "X_r = np.array(X_r)\n",
    "X_l = np.array(X_l)"
   ]
  },
  {
   "cell_type": "code",
   "execution_count": 80,
   "metadata": {},
   "outputs": [
    {
     "name": "stdout",
     "output_type": "stream",
     "text": [
      "(1525, 20, 20, 3)\n",
      "(1525, 20, 20, 3)\n"
     ]
    }
   ],
   "source": [
    "print(X_r.shape)\n",
    "print(X_l.shape)"
   ]
  },
  {
   "cell_type": "code",
   "execution_count": 81,
   "metadata": {},
   "outputs": [],
   "source": [
    "from PIL import Image"
   ]
  },
  {
   "cell_type": "code",
   "execution_count": 82,
   "metadata": {},
   "outputs": [],
   "source": [
    "def write_data(X, lr):\n",
    "    X_train, X_test = train_test_split(X, random_state=0)\n",
    "    cnt = 0\n",
    "    for img in X_train:\n",
    "        Image.fromarray(img).save('../../img/dataset/train/'+lr+'/'+str(cnt)+'.png')\n",
    "        cnt += 1 \n",
    "        \n",
    "    cnt = 0\n",
    "    for img in X_test:\n",
    "        Image.fromarray(img).save('../../img/dataset/test/'+lr+'/'+str(cnt)+'.png')\n",
    "        cnt += 1 "
   ]
  },
  {
   "cell_type": "code",
   "execution_count": 83,
   "metadata": {
    "scrolled": true
   },
   "outputs": [],
   "source": [
    "write_data(X_r, 'right')\n",
    "write_data(X_l, 'left')"
   ]
  },
  {
   "cell_type": "code",
   "execution_count": 75,
   "metadata": {},
   "outputs": [],
   "source": []
  },
  {
   "cell_type": "code",
   "execution_count": null,
   "metadata": {},
   "outputs": [],
   "source": [
    "X_train, X_test = train_test_split(X_r, random_state=0)\n",
    "for i in range(X_train)\n",
    "X_train, X_test, = train_test_split(X_l, random_state=0)"
   ]
  }
 ],
 "metadata": {
  "kernelspec": {
   "display_name": "Python 3",
   "language": "python",
   "name": "python3"
  },
  "language_info": {
   "codemirror_mode": {
    "name": "ipython",
    "version": 3
   },
   "file_extension": ".py",
   "mimetype": "text/x-python",
   "name": "python",
   "nbconvert_exporter": "python",
   "pygments_lexer": "ipython3",
   "version": "3.5.4"
  }
 },
 "nbformat": 4,
 "nbformat_minor": 2
}
